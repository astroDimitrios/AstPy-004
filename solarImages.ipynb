{
 "cells": [
  {
   "cell_type": "markdown",
   "metadata": {},
   "source": [
    "Name: __________________        Class: __________________     Date: __________________"
   ]
  },
  {
   "cell_type": "markdown",
   "metadata": {},
   "source": [
    "<center>\n",
    "    <img width=\"100%\" src=\"https://raw.githubusercontent.com/astroDimitrios/AstronomyClass/master/DesignAssets/Ai/Banner3plainCut.png\" alt='AP Logo'>\n",
    "</center>\n",
    "\n",
    "# Introduction to the Sun\n",
    "\n",
    "### AIM - To access image data on the sun and visualise it in different wavelengths\n",
    "Difficulty: Easy\n",
    "\n",
    "**Predict**\n",
    "\n",
    "Have a think about these questions and make some predictions! Be sure to tell someone else what you predict.\n",
    "\n",
    "1) Do you think the sun looks the same in all wavelengths?  \n",
    "2) Are there parts of the sun we can only see in certain wavelengths?  \n",
    "3) How do astronomers deal with such a large amount of data?"
   ]
  },
  {
   "cell_type": "markdown",
   "metadata": {},
   "source": [
    "**Enter your predictions:**    \n",
    "1)    \n",
    "2)    \n",
    "3)    "
   ]
  },
  {
   "cell_type": "markdown",
   "metadata": {},
   "source": [
    "## Contents\n",
    "\n",
    "* [Start](#Start)\n",
    "* [Multiwavelength Images of the Sun](#Multi)\n",
    "* [The Solar Corona](#Corona)\n",
    "* [Flares and Sunspots](#FSP)\n",
    "* [Answers](#Answers)\n",
    "* [Challenges](#Challenges)\n",
    "* [References](#References)\n",
    "\n",
    "<a class=\"anchor\" id=\"Start\"></a>\n",
    "# Let's go: Today's Sun \n",
    "\n",
    "We are going to use a python package called [SunPy](https://sunpy.org/) to look at images of the sun from the Solar Dynamics Observatory (SDO) and other telescopes.\n",
    "Let's load SunPy now:"
   ]
  },
  {
   "cell_type": "code",
   "execution_count": null,
   "metadata": {},
   "outputs": [],
   "source": [
    "# run me\n",
    "import sunpy.map\n",
    "from sunpy.database.tables import display_entries\n",
    "from sunpy.net import Fido, attrs as a\n",
    "from sunpy.database import Database\n",
    "from sunpy.io.file_tools import read_file\n",
    "import sunpy.timeseries as ts\n",
    "from sunpy.time import TimeRange\n",
    "import sunpy.data.sample as sample_data"
   ]
  },
  {
   "cell_type": "code",
   "execution_count": null,
   "metadata": {},
   "outputs": [],
   "source": [
    "# %%capture\n",
    "# # READ FIRST - Uncomment and Run only if you don't have these pre-requisites installed\n",
    "# import sys\n",
    "# !{sys.executable} -m pip install astropy glymur sunpy bs4 drms zeep"
   ]
  },
  {
   "cell_type": "markdown",
   "metadata": {},
   "source": [
    "We will also need some extra modules such as Matplotlib, NumPy, astropy etc. Load them in now as well:"
   ]
  },
  {
   "cell_type": "code",
   "execution_count": null,
   "metadata": {},
   "outputs": [],
   "source": [
    "# run me\n",
    "import numpy as np\n",
    "import matplotlib.pyplot as plt\n",
    "from matplotlib import rc\n",
    "import matplotlib.gridspec as gridspec\n",
    "import matplotlib.colors as colors\n",
    "import astropy.units as u\n",
    "from astropy.utils.exceptions import AstropyWarning\n",
    "from astropy.time import Time, TimeDelta\n",
    "import warnings\n",
    "import glymur\n",
    "from IPython.display import Image\n",
    "%matplotlib inline\n",
    "warnings.simplefilter('ignore', category=AstropyWarning)"
   ]
  },
  {
   "cell_type": "markdown",
   "metadata": {},
   "source": [
    "We can use the Helioviewer to get a Jpeg of the Sun from today.\n",
    "\n",
    "<div class=\"alert alert-block alert-success\">Enter today's date below:</div>"
   ]
  },
  {
   "cell_type": "code",
   "execution_count": null,
   "metadata": {},
   "outputs": [],
   "source": [
    "from sunpy.net.helioviewer import HelioviewerClient\n",
    "hv = HelioviewerClient()  \n",
    "# date are entered in the format YYYY/MM/DD\n",
    "# enter today's date into the empty string in the line below\n",
    "sun = hv.download_jp2('''Your code here''', observatory=\"SDO\", instrument=\"HMI\", measurement=\"continuum\") \n",
    "hmiC = sunpy.map.Map(sun)\n",
    "hmiC.peek()"
   ]
  },
  {
   "cell_type": "markdown",
   "metadata": {},
   "source": [
    "Here we have specified the telescope (SDO) the instrument/camera (HMI) and the measurement to plot (continuum).\n",
    "To view the full list of options we can print the data sources available to us like this:"
   ]
  },
  {
   "cell_type": "code",
   "execution_count": null,
   "metadata": {},
   "outputs": [],
   "source": [
    "# run me\n",
    "print(hv.data_sources)"
   ]
  },
  {
   "cell_type": "markdown",
   "metadata": {},
   "source": [
    "You can see we have access to other telescopes as well such as SOHO and Hinode.  \n",
    "Let's clean up this plot and make it the orange/yellow colour we see visually.\n",
    "\n",
    "<div class=\"alert alert-block alert-success\">\n",
    "Add your code below to turn off the Matplotlib axes:</div>"
   ]
  },
  {
   "cell_type": "code",
   "execution_count": null,
   "metadata": {},
   "outputs": [],
   "source": [
    "fig = plt.figure(1)\n",
    "ax = plt.subplot(111, projection=hmiC)\n",
    "# the axes on the first figure look messy, enter a line of code below to turn the matplotlib axes off\n",
    "# Your code here:\n",
    "'''Your code here'''\n",
    "\n",
    "cmap = plt.get_cmap('afmhot')\n",
    "hmiC.plot(cmap=cmap, annotate=False)\n",
    "plt.clim(0,300)\n",
    "# plt.show()"
   ]
  },
  {
   "cell_type": "markdown",
   "metadata": {},
   "source": [
    "<div class=\"alert alert-block alert-info\">Now compare your awesome image with the HMI Intensitygram on https://sdo.gsfc.nasa.gov/data/.\n",
    "Intensitygrams show how bright the sun is over it's surface. You'll also see a flattened version on the SDO website. \n",
    "\n",
    "1) What is the difference between your image and the flattened version?    \n",
    "2) What might cause the darkening your photo?</div>"
   ]
  },
  {
   "cell_type": "markdown",
   "metadata": {},
   "source": [
    "**Enter your answers:**    \n",
    "1)  \n",
    "2)"
   ]
  },
  {
   "cell_type": "markdown",
   "metadata": {},
   "source": [
    "# Multiwavelength Images <a class=\"anchor\" id=\"Multi\"></a>\n",
    "\n",
    "We know that the sun emits many wavelengths of electromagnetic radiation lets get some images for the different parts of the EM spectrum.\n",
    "We've already seen a continuum or white light image of the sun that we colourised at the begining of the Notebook.  \n",
    "To store our new data we are going to start a database which wil help us manage the observations we download:"
   ]
  },
  {
   "cell_type": "code",
   "execution_count": null,
   "metadata": {},
   "outputs": [],
   "source": [
    "# run me\n",
    "db = Database('sqlite:///sunpydata.sqlite')\n",
    "db.default_waveunit = 'angstrom' "
   ]
  },
  {
   "cell_type": "markdown",
   "metadata": {},
   "source": [
    "You'll notice a file called **sunpydata.sqlite** has appeared in our directory.\n",
    "This is our database. Let's download something to fill it.\n",
    "Science ready data from spacecraft is not available instantly so we will have to get information from a while back.\n",
    "<div class=\"alert alert-block alert-success\">\n",
    "Complete the code below by entering the correct string within <strong>a.Instrument()</strong>:</div>"
   ]
  },
  {
   "cell_type": "code",
   "execution_count": null,
   "metadata": {},
   "outputs": [],
   "source": [
    "# This may take a few seconds!\n",
    "# we want aia data so enter aia into the line below for the Instrument attribute\n",
    "result = Fido.search(a.Time('2019/05/06 12:00', '2019/05/06 12:01'), a.Instrument('''Your code here'''),\n",
    "                     a.Sample(2*u.minute), a.Wavelength(94*u.angstrom)|a.Wavelength(131*u.angstrom)|a.Wavelength(171*u.angstrom)|a.Wavelength(193*u.angstrom)|a.Wavelength(211*u.angstrom)|a.Wavelength(304*u.angstrom)|a.Wavelength(335*u.angstrom)|a.Wavelength(1600*u.angstrom)|a.Wavelength(4500*u.angstrom))\n",
    "print(result)"
   ]
  },
  {
   "cell_type": "markdown",
   "metadata": {},
   "source": [
    "You should see a load of tables with the results from our search. Each table is for a different wavelength we specified in Angstrom ($10^{10}$ m).  \n",
    "\n",
    "We searched images from the SDO instrument AIA, and set ```a.Sample()``` greater than the time period we searched.\n",
    "This meant we only get one image for each wavelength in that time period (which is only 2 minutes to begin with!).  \n",
    "\n",
    "We can now download the data.\n"
   ]
  },
  {
   "cell_type": "code",
   "execution_count": null,
   "metadata": {},
   "outputs": [],
   "source": [
    "# run me\n",
    "# This will take a minute\n",
    "download = Fido.fetch(result, path=\"./data/\")"
   ]
  },
  {
   "cell_type": "markdown",
   "metadata": {},
   "source": [
    "Now the data is downloaded you should see a folder called data with a bunch of fits files inside.\n",
    "FITS stands for Flexible Interchangeable Transport System. It is the de facto image format for astronomy.\n",
    "The image contains a \"header\" which contains information about the image.\n",
    "HMI images have been downloaded for you and are already in the folder (using the online search form https://vso.nascom.nasa.gov/cgi-bin/search).  \n",
    "\n",
    "Let's add the fits in our folder to the database."
   ]
  },
  {
   "cell_type": "code",
   "execution_count": null,
   "metadata": {},
   "outputs": [],
   "source": [
    "# run me\n",
    "db.add_from_dir(\"./data/\", ignore_already_added=True,time_string_parse_format=\"%d/%m/%Y\") "
   ]
  },
  {
   "cell_type": "markdown",
   "metadata": {},
   "source": [
    "Let's now see what's in our database. This code cell will print a table showing our database entries.\n",
    "<div class=\"alert alert-block alert-success\">\n",
    "    Edit the last string so that it prints the instrument as well:</div>"
   ]
  },
  {
   "cell_type": "code",
   "execution_count": null,
   "metadata": {},
   "outputs": [],
   "source": [
    "# Let's remove any bad entries first\n",
    "for database_entry in db:\n",
    "    if database_entry.observation_time_start is None and database_entry.observation_time_end is None:\n",
    "        db.remove(database_entry)\n",
    "# modify this print statement to also print the instrument the image was taken with\n",
    "# Your code here:\n",
    "print(display_entries(db,['id', 'observation_time_start', 'wavemin', '''Your code here''']))"
   ]
  },
  {
   "cell_type": "markdown",
   "metadata": {},
   "source": [
    "We can now search the database. Here we are searching for images in wavelengths between 1-2 nm or 10-20 Angstrom.  \n",
    "We have also chosen to sort our results by wavlength!"
   ]
  },
  {
   "cell_type": "code",
   "execution_count": null,
   "metadata": {},
   "outputs": [],
   "source": [
    "# run me\n",
    "print(display_entries(db.search(a.Wavelength(1.0*u.nm, 2.0*u.nm)),['id', 'observation_time_start', 'instrument', 'wavemin'], sort=True))"
   ]
  },
  {
   "cell_type": "markdown",
   "metadata": {},
   "source": [
    "Another way to fetch data is to use:\n",
    "```entries = db.fetch(a.Time('2019/05/06 12:00', '2019/05/06 12:01'), a.Instrument('aia'),a.vso.Sample(2*u.minute),a.Wavelength(94*u.angstrom))```  \n",
    "This automatically adds the observations to our database and downloads files checking for duplicates.\n",
    "\n",
    "Now we have our images let's plot them!"
   ]
  },
  {
   "cell_type": "code",
   "execution_count": null,
   "metadata": {},
   "outputs": [],
   "source": [
    "# run me\n",
    "AIA = db.search(a.Wavelength(.1*u.nm, 60.0*u.nm))\n",
    "AIAplotDic = {}\n",
    "for obs in AIA:\n",
    "    AIAplotDic[int(obs.wavemin*10)] = [obs.path,\"sdoaia\"+str(int(obs.wavemin*10))]\n",
    "    \n",
    "fig = plt.figure(num=2, figsize=(len(AIA)*2,2))\n",
    "count = 0\n",
    "gs1 = fig.add_gridspec(1,len(AIA), wspace=0.00, hspace=0.0)\n",
    "for im in sorted(AIAplotDic.keys()):\n",
    "    smap = sunpy.map.Map(AIAplotDic[im][0])\n",
    "    ax1 = plt.subplot(gs1[count],projection=smap)\n",
    "    ax1.set_title(str(im)+r\" $\\AA$\",pad=5)\n",
    "    cmap = plt.get_cmap(AIAplotDic[im][1])\n",
    "    smap.plot(axes=ax1, cmap=cmap, annotate=False, clip_interval=(0.1, 99.9)*u.percent)\n",
    "    ax1.set_axis_off()\n",
    "    count +=1\n",
    "\n",
    "plt.show()"
   ]
  },
  {
   "cell_type": "markdown",
   "metadata": {},
   "source": [
    "Wow! Look at all those images. We have false coloured the data using the SDO colourmaps SunPy provides.  \n",
    "\n",
    "Let's load one which has been edited in photoshop so they're not all on one row:"
   ]
  },
  {
   "cell_type": "code",
   "execution_count": null,
   "metadata": {},
   "outputs": [],
   "source": [
    "# run me\n",
    "Image(\"sunAIAstacked.png\")"
   ]
  },
  {
   "cell_type": "markdown",
   "metadata": {},
   "source": [
    "The shortest uv wavelength of 94 Angstrom (9.4 nm, on the verge of being a soft x-ray) is on the top left with the longest on the bottom right.  \n",
    "All of these images are uv except the botto left which at 450 nm is in the purple/blue end of the visisble spectrum.\n",
    "<div class=\"alert alert-block alert-info\">\n",
    "    \n",
    "3) In which image is it easiest to see sunspots and granules?     \n",
    "4) Which image/s show the magnetic fields the best?\n",
    "    </div>"
   ]
  },
  {
   "cell_type": "markdown",
   "metadata": {},
   "source": [
    "**Enter your answers:**    \n",
    "3)  \n",
    "4)"
   ]
  },
  {
   "cell_type": "markdown",
   "metadata": {},
   "source": [
    "We know that sunspots are seen in areas with strong magnetic fields (high magnetic field flux - see more), let's now plot the HMI instrument's magnetogram data that was provided for you."
   ]
  },
  {
   "cell_type": "code",
   "execution_count": null,
   "metadata": {},
   "outputs": [],
   "source": [
    "# run me\n",
    "HMI = db.search(a.Instrument(\"HMI_FRONT2\"))\n",
    "HMIplotDic = {}\n",
    "cmapCount = 0\n",
    "cmaps = ['afmhot', 'hmimag', 'kcor']\n",
    "for obs in HMI:\n",
    "    HMIplotDic[obs.path.split(\".\")[-2]] = [obs.path,cmaps[cmapCount]]\n",
    "    cmapCount += 1\n",
    "\n",
    "fig = plt.figure(num=3, figsize=(len(HMI)*2,2))\n",
    "count2 = 0\n",
    "gs1 = fig.add_gridspec(1,len(HMI), wspace=0.00, hspace=0.0)\n",
    "for im in HMIplotDic.keys():\n",
    "    hmi_map = sunpy.map.Map(HMIplotDic[im][0])\n",
    "    ax2 = plt.subplot(gs1[count2],projection=hmi_map)\n",
    "    ax2.set_title(im,pad=5)\n",
    "    cmap = plt.get_cmap(HMIplotDic[im][1])\n",
    "    hmi_rotated = hmi_map.rotate(order=3)\n",
    "    if im == \"continuum\":\n",
    "        cont = hmi_rotated.plot(axes=ax2, cmap=cmap, annotate=False, clip_interval=(0.1, 99.9)*u.percent)\n",
    "        cont.set_clim(0,70000)\n",
    "    elif im == \"magnetogram\":\n",
    "        hmi_rotated.plot_settings['norm'] = plt.Normalize(-1000, 1000)\n",
    "        hmi_rotated.plot(axes=ax2, cmap=cmap, annotate=False)\n",
    "    else:\n",
    "        hmi_rotated.plot(axes=ax2, annotate=False, clip_interval=(0.1, 99.9)*u.percent)\n",
    "    ax2.set_axis_off()\n",
    "    count2 +=1\n",
    "    \n",
    "plt.show()"
   ]
  },
  {
   "cell_type": "code",
   "execution_count": null,
   "metadata": {},
   "outputs": [],
   "source": [
    "# run me\n",
    "Image(\"sunHMI.png\")"
   ]
  },
  {
   "cell_type": "markdown",
   "metadata": {},
   "source": [
    "The three images we see here are a continuum image (like the intensitygram we plotted at the start) of the photosphere, a map of the photosphere's magnetic field, and a map of the solar surface velocity.\n",
    "We had to rotate these images to align them with AIA ones because the two instruments are orientated differently on the spacecraft.\n",
    "\n",
    "# Solar Corona <a class=\"anchor\" id=\"Corona\"></a>\n",
    "\n",
    "We can also use SunPy to look at pictures of the solar corona.\n",
    "The SOHO telescope has three detectors (C1,C2,C3) on its LASCO instrument which image the corona in different wavelengths and distances from the photosphere.  \n",
    "\n",
    "Let's get an image from the LASCO C3 detector. There is a LASCO image in the **lascoData** directory for you to load."
   ]
  },
  {
   "cell_type": "code",
   "execution_count": null,
   "metadata": {},
   "outputs": [],
   "source": [
    "# run me\n",
    "# This file contains LASCO C3 detector data taken on the 2000/02/27 between 7:42 and 7:43 am\n",
    "data, header = read_file('./lascoData/32048310.fts')[0]\n",
    "\n",
    "header['CUNIT1'] = 'arcsec'\n",
    "header['CUNIT2'] = 'arcsec'\n",
    "\n",
    "coronamap = sunpy.map.Map(data, header)\n",
    "fig = plt.figure(4)\n",
    "axSOHO = plt.subplot(111, projection=coronamap)\n",
    "axSOHO.set_title(\"LASCO C3\")\n",
    "lasco = coronamap.plot(annotate=False, norm=colors.LogNorm(), clip_interval=(25.0, 99.5)*u.percent)\n",
    "# lasco.set_clim(0,8000)\n",
    "axSOHO.set_axis_off()\n",
    "plt.colorbar()\n",
    "\n",
    "# What does the commented line lasco.set_clim(0,8000) do?\n",
    "\n",
    "# plt.show()\n",
    "plt.savefig(\"sunLASCOC3.png\", dpi=300)"
   ]
  },
  {
   "cell_type": "code",
   "execution_count": null,
   "metadata": {},
   "outputs": [],
   "source": [
    "# run me\n",
    "Image(\"sunLASCOC3.png\")"
   ]
  },
  {
   "cell_type": "markdown",
   "metadata": {},
   "source": [
    "Look closely enough and you'll see a loop in the corona at the top! Try adjusting some numbers in the ```clip_interval=(,)*u.percent``` and adding the ```set_clim(,)``` command to make it pop out more.\n",
    "<div class=\"alert alert-block alert-info\">\n",
    "    \n",
    "5) What causes the black region in this image that extends from the bottom left to the center?</div>"
   ]
  },
  {
   "cell_type": "markdown",
   "metadata": {},
   "source": [
    "**Enter your answer:**    \n",
    "5)  "
   ]
  },
  {
   "cell_type": "markdown",
   "metadata": {},
   "source": [
    "# Flares and Sunspots <a class=\"anchor\" id=\"FSP\"></a>\n",
    "\n",
    "Flares are best seen near the edge of the solar disk where we see them extending out into space. SunPy can be used to visualise these flares. The following code snippet from the SunPy Docs here shows a M2.5 flare that occured on the 7th of June 2011.\n",
    "\n",
    "You need to setup the figure like we did earlier and enter the correct projection:"
   ]
  },
  {
   "cell_type": "code",
   "execution_count": null,
   "metadata": {},
   "outputs": [],
   "source": [
    "%%capture\n",
    "# run me\n",
    "aia_cutout03_map = sunpy.map.Map(sample_data.AIA_193_CUTOUT03_IMAGE)\n",
    "# Try plotting this map like we did above for the LASCO image\n",
    "# Your code here:\n",
    "fig = '''Your code here'''\n",
    "ax = fig.add_subplot(111, projection='''Your code here''')\n",
    "aia_cutout03_map.plot()\n",
    "\n",
    "# plt.show()\n",
    "plt.savefig(\"sunFlare.png\", dpi=300)"
   ]
  },
  {
   "cell_type": "code",
   "execution_count": null,
   "metadata": {},
   "outputs": [],
   "source": [
    "# run me\n",
    "Image(\"sunFlare.png\")"
   ]
  },
  {
   "cell_type": "markdown",
   "metadata": {},
   "source": [
    "I enourage you to delve into the documentation for this code snippet. You will find examples there of plotting the x-ray flux for the event and creating a series of images showing how the flares shape changed over time.  \n",
    "We saw sunspots on our earlier images. Let's use SunPy to plot NOAA data for the number of sunspots as a function of time."
   ]
  },
  {
   "cell_type": "code",
   "execution_count": null,
   "metadata": {},
   "outputs": [],
   "source": [
    "%%capture\n",
    "# run me without changing anything!\n",
    "time_range = TimeRange(\"1980-06-01 00:00\", Time.now())\n",
    "result = Fido.search(a.Time(time_range), a.Instrument('noaa-indices'))\n",
    "f_noaa_indices = Fido.fetch(result)\n",
    "result = Fido.search(a.Time(time_range.end, time_range.end + TimeDelta(4 * u.year)),\n",
    "                     a.Instrument('noaa-predict'))\n",
    "f_noaa_predict = Fido.fetch(result)\n",
    "\n",
    "noaa = ts.TimeSeries(f_noaa_indices, source='noaaindices').truncate(time_range)\n",
    "noaa_predict = ts.TimeSeries(f_noaa_predict, source='noaapredictindices')\n",
    "\n",
    "fig, ax = plt.subplots()\n",
    "ax.plot(noaa.index, noaa.quantity('sunspot RI'), label='Sunspot Number')\n",
    "ax.plot(noaa_predict.index, noaa_predict.quantity('sunspot'),\n",
    "        color='grey', label='Near-term Prediction')\n",
    "ax.fill_between(noaa_predict.index, noaa_predict.quantity('sunspot low'),\n",
    "                noaa_predict.quantity('sunspot high'), alpha=0.3, color='grey')\n",
    "ax.set_ylim(bottom=0)\n",
    "ax.set_ylabel('Sunspot Number')\n",
    "ax.set_xlabel('Year')\n",
    "ax.legend()\n",
    "# plt.show()\n",
    "plt.savefig(\"sunSunspots.png\", dpi=300)"
   ]
  },
  {
   "cell_type": "code",
   "execution_count": null,
   "metadata": {},
   "outputs": [],
   "source": [
    "# run me\n",
    "Image(\"sunSunspots.png\")"
   ]
  },
  {
   "cell_type": "markdown",
   "metadata": {},
   "source": [
    "The sun has a 11 year cycle which you can see from the graph.\n",
    "You can also see that sunspot activity at the peak of the cycle has been decreasing over the last two decades.\n",
    "Visit the docs [here](https://docs.sunpy.org/en/stable/generated/gallery/plotting/solar_cycle_example.html#sphx-glr-generated-gallery-plotting-solar-cycle-example-py) to see this code snippet.\n",
    "<div class=\"alert alert-block alert-info\">\n",
    "    \n",
    "6) Search online for an updated sunspot cycle figure. What was the peak sunspot number in 2020?      \n",
    "7) Are the sunspot numbers generally increasing or decreasing from 2010-2020?</div>"
   ]
  },
  {
   "cell_type": "markdown",
   "metadata": {},
   "source": [
    "**Enter your answers:**    \n",
    "6)    \n",
    "7)"
   ]
  },
  {
   "cell_type": "markdown",
   "metadata": {},
   "source": [
    "<div class=\"alert alert-block alert-info\">\n",
    "    \n",
    "# Answers <a class=\"anchor\" id=\"Answers\"></a>\n",
    "\n",
    "1) Your image should show the sun getting darker at the edges.    \n",
    "2) The flattened image takes into account the fact that most of the light from the sides of the sun as we see it is not directed towards us. This makes the sun look darker near the edges like in our image. This effect is called limb darkening.    \n",
    "3) You can see the granules most clearly in the 304 Angstrom image. You should also be able to see a sunspot on the left side of the disk in the 1600 Angstrom image.    \n",
    "4) The 171-211 Angstrom images show the magnetic fields the best. You can see how the field lines extend out from the surface of the Sun if you look at the edge of the disk.     \n",
    "5) The black line in some of the images you see from LASCO are from the arm that holds a disc which blocks out the light from the solar disk. If you didn't block out the main light from the sun it would overpower the light from the corona and it wouldn't be visible.    \n",
    "6) Close to 0!    \n",
    "7) Trick question! For the past decade (2010-2020) the Sun has been in solar cycle 24 with a peak in sunspot activity in 2014. Overall sunspots numbers are decreasing each cycle as we come out of a period of increased solar activity (Modern Solar Maximum).    </div>\n",
    "\n",
    "# Challenge <a class=\"anchor\" id=\"Challenges\"></a>\n",
    "\n",
    " 1) Make a series of plots in one wavelength showing the Sun's 11 year sunspot cycle\n",
    " 2) Make an animation of the flare shown above using the code in the SunPy docs  \n",
    " 3) Make a graph of sunspot number vs time from the 19th century to today using: http://www.sidc.be/silso/datafiles\n",
    "\n",
    "# References and Resources <a class=\"anchor\" id=\"References\"></a>\n",
    "\n",
    "SunPy - https://sunpy.org/  \n",
    "Pereria, T. M. D., https://folk.uio.no/tiago/teaching/ast2210/sunpy_aia/ - Sunspot animations  \n",
    "Sunspot Number Data - SILSO, Royal Observatory of Belgium, http://www.sidc.be/silso/datafiles  \n",
    "\n",
    "Source keywords for searches - https://sdac.virtualsolar.org/cgi/show_details?keyword=SOURCE  \n",
    "Instrument keywords for searches - https://sdac.virtualsolar.org/cgi/show_details?instrument=HMI  \n",
    "\n",
    "SDO Images from today - https://sdo.gsfc.nasa.gov/data/  \n",
    "HMI Instrument page - http://hmi.stanford.edu/\n",
    "\n",
    "## Sharing\n",
    "\n",
    "If you share, use or modify this activity in any way use the citation in this [txt file](https://github.com/astroDimitrios/Astronomy/blob/master/CITATION.txt).    \n",
    "Please contact me at astrodimitrios@gmail.com with any suggestions, mistakes found, or general questions about teaching astronomy with Python.\n",
    "\n",
    "© Dimitrios Theodorakis GNU General Public License v3.0 \u000b",
    "\n",
    "https://github.com/astroDimitrios/Astronomy  "
   ]
  }
 ],
 "metadata": {
  "kernelspec": {
   "display_name": "Python 3 (ipykernel)",
   "language": "python",
   "name": "python3"
  },
  "language_info": {
   "codemirror_mode": {
    "name": "ipython",
    "version": 3
   },
   "file_extension": ".py",
   "mimetype": "text/x-python",
   "name": "python",
   "nbconvert_exporter": "python",
   "pygments_lexer": "ipython3",
   "version": "3.9.12"
  }
 },
 "nbformat": 4,
 "nbformat_minor": 4
}
